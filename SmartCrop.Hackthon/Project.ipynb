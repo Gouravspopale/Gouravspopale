{
 "cells": [
  {
   "cell_type": "markdown",
   "metadata": {},
   "source": [
    "This is the project based on the Agriculture,"
   ]
  },
  {
   "cell_type": "markdown",
   "metadata": {},
   "source": [
    "# Problem Statment"
   ]
  },
  {
   "cell_type": "markdown",
   "metadata": {},
   "source": [
    "Organization Name: Ministry Of Jal Shakti"
   ]
  },
  {
   "cell_type": "markdown",
   "metadata": {},
   "source": [
    ": Automatic regulation of valves for release of \n",
    "water based upon soil moisture availability in the root zone of the crop, \n",
    "using artificial intelligence, in a piped and micro irrigation network of \n",
    "irrigation system."
   ]
  }
 ],
 "metadata": {
  "language_info": {
   "name": "python"
  },
  "orig_nbformat": 4
 },
 "nbformat": 4,
 "nbformat_minor": 2
}
